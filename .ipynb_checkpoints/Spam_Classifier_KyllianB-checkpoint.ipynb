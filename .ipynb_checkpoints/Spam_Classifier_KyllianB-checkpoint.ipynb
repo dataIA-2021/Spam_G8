{
 "cells": [
  {
   "cell_type": "code",
   "execution_count": 2,
   "id": "bb89fc98",
   "metadata": {},
   "outputs": [
    {
     "data": {
      "text/html": [
       "<div>\n",
       "<style scoped>\n",
       "    .dataframe tbody tr th:only-of-type {\n",
       "        vertical-align: middle;\n",
       "    }\n",
       "\n",
       "    .dataframe tbody tr th {\n",
       "        vertical-align: top;\n",
       "    }\n",
       "\n",
       "    .dataframe thead th {\n",
       "        text-align: right;\n",
       "    }\n",
       "</style>\n",
       "<table border=\"1\" class=\"dataframe\">\n",
       "  <thead>\n",
       "    <tr style=\"text-align: right;\">\n",
       "      <th></th>\n",
       "      <th>v1</th>\n",
       "      <th>v2</th>\n",
       "      <th>Unnamed: 2</th>\n",
       "      <th>Unnamed: 3</th>\n",
       "      <th>Unnamed: 4</th>\n",
       "    </tr>\n",
       "  </thead>\n",
       "  <tbody>\n",
       "    <tr>\n",
       "      <th>0</th>\n",
       "      <td>ham</td>\n",
       "      <td>Go until jurong point, crazy.. Available only ...</td>\n",
       "      <td>NaN</td>\n",
       "      <td>NaN</td>\n",
       "      <td>NaN</td>\n",
       "    </tr>\n",
       "    <tr>\n",
       "      <th>1</th>\n",
       "      <td>ham</td>\n",
       "      <td>Ok lar... Joking wif u oni...</td>\n",
       "      <td>NaN</td>\n",
       "      <td>NaN</td>\n",
       "      <td>NaN</td>\n",
       "    </tr>\n",
       "    <tr>\n",
       "      <th>2</th>\n",
       "      <td>spam</td>\n",
       "      <td>Free entry in 2 a wkly comp to win FA Cup fina...</td>\n",
       "      <td>NaN</td>\n",
       "      <td>NaN</td>\n",
       "      <td>NaN</td>\n",
       "    </tr>\n",
       "    <tr>\n",
       "      <th>3</th>\n",
       "      <td>ham</td>\n",
       "      <td>U dun say so early hor... U c already then say...</td>\n",
       "      <td>NaN</td>\n",
       "      <td>NaN</td>\n",
       "      <td>NaN</td>\n",
       "    </tr>\n",
       "    <tr>\n",
       "      <th>4</th>\n",
       "      <td>ham</td>\n",
       "      <td>Nah I don't think he goes to usf, he lives aro...</td>\n",
       "      <td>NaN</td>\n",
       "      <td>NaN</td>\n",
       "      <td>NaN</td>\n",
       "    </tr>\n",
       "  </tbody>\n",
       "</table>\n",
       "</div>"
      ],
      "text/plain": [
       "     v1                                                 v2 Unnamed: 2  \\\n",
       "0   ham  Go until jurong point, crazy.. Available only ...        NaN   \n",
       "1   ham                      Ok lar... Joking wif u oni...        NaN   \n",
       "2  spam  Free entry in 2 a wkly comp to win FA Cup fina...        NaN   \n",
       "3   ham  U dun say so early hor... U c already then say...        NaN   \n",
       "4   ham  Nah I don't think he goes to usf, he lives aro...        NaN   \n",
       "\n",
       "  Unnamed: 3 Unnamed: 4  \n",
       "0        NaN        NaN  \n",
       "1        NaN        NaN  \n",
       "2        NaN        NaN  \n",
       "3        NaN        NaN  \n",
       "4        NaN        NaN  "
      ]
     },
     "execution_count": 2,
     "metadata": {},
     "output_type": "execute_result"
    }
   ],
   "source": [
    "#Importation des bibliothèques et du CSV\n",
    "import numpy as np\n",
    "import pandas as pd\n",
    "import matplotlib.pyplot as plt\n",
    "import seaborn as sns\n",
    "import time\n",
    "\n",
    "df_original = pd.read_csv('spam.csv', encoding=\"ISO-8859-1\")\n",
    "df_original.head()"
   ]
  },
  {
   "cell_type": "markdown",
   "id": "d2564710",
   "metadata": {},
   "source": [
    "# Nettoyage"
   ]
  },
  {
   "cell_type": "code",
   "execution_count": 3,
   "id": "bf4d67cd",
   "metadata": {},
   "outputs": [
    {
     "data": {
      "text/html": [
       "<div>\n",
       "<style scoped>\n",
       "    .dataframe tbody tr th:only-of-type {\n",
       "        vertical-align: middle;\n",
       "    }\n",
       "\n",
       "    .dataframe tbody tr th {\n",
       "        vertical-align: top;\n",
       "    }\n",
       "\n",
       "    .dataframe thead th {\n",
       "        text-align: right;\n",
       "    }\n",
       "</style>\n",
       "<table border=\"1\" class=\"dataframe\">\n",
       "  <thead>\n",
       "    <tr style=\"text-align: right;\">\n",
       "      <th></th>\n",
       "      <th>label</th>\n",
       "      <th>content</th>\n",
       "    </tr>\n",
       "  </thead>\n",
       "  <tbody>\n",
       "    <tr>\n",
       "      <th>0</th>\n",
       "      <td>ham</td>\n",
       "      <td>Go until jurong point, crazy.. Available only ...</td>\n",
       "    </tr>\n",
       "    <tr>\n",
       "      <th>1</th>\n",
       "      <td>ham</td>\n",
       "      <td>Ok lar... Joking wif u oni...</td>\n",
       "    </tr>\n",
       "    <tr>\n",
       "      <th>2</th>\n",
       "      <td>spam</td>\n",
       "      <td>Free entry in 2 a wkly comp to win FA Cup fina...</td>\n",
       "    </tr>\n",
       "    <tr>\n",
       "      <th>3</th>\n",
       "      <td>ham</td>\n",
       "      <td>U dun say so early hor... U c already then say...</td>\n",
       "    </tr>\n",
       "    <tr>\n",
       "      <th>4</th>\n",
       "      <td>ham</td>\n",
       "      <td>Nah I don't think he goes to usf, he lives aro...</td>\n",
       "    </tr>\n",
       "  </tbody>\n",
       "</table>\n",
       "</div>"
      ],
      "text/plain": [
       "  label                                            content\n",
       "0   ham  Go until jurong point, crazy.. Available only ...\n",
       "1   ham                      Ok lar... Joking wif u oni...\n",
       "2  spam  Free entry in 2 a wkly comp to win FA Cup fina...\n",
       "3   ham  U dun say so early hor... U c already then say...\n",
       "4   ham  Nah I don't think he goes to usf, he lives aro..."
      ]
     },
     "execution_count": 3,
     "metadata": {},
     "output_type": "execute_result"
    }
   ],
   "source": [
    "#Retrait des colonnes inutiles\n",
    "df = df_original[['v1', 'v2']].copy()\n",
    "df.rename(columns={\"v1\": \"label\", \"v2\": \"content\"}, inplace = True)\n",
    "df.head()"
   ]
  },
  {
   "cell_type": "code",
   "execution_count": 4,
   "id": "0958ed8f",
   "metadata": {
    "scrolled": false
   },
   "outputs": [
    {
     "name": "stdout",
     "output_type": "stream",
     "text": [
      "ham     0.865937\n",
      "spam    0.134063\n",
      "Name: label, dtype: float64\n"
     ]
    }
   ],
   "source": [
    "print(df.label.value_counts(normalize = True))\n",
    "#Proportion 'ham' : 4825/5572 = 86.6%"
   ]
  },
  {
   "cell_type": "code",
   "execution_count": 5,
   "id": "00a32513",
   "metadata": {},
   "outputs": [
    {
     "name": "stdout",
     "output_type": "stream",
     "text": [
      "ham     0.87367\n",
      "spam    0.12633\n",
      "Name: label, dtype: float64\n"
     ]
    },
    {
     "data": {
      "text/html": [
       "<div>\n",
       "<style scoped>\n",
       "    .dataframe tbody tr th:only-of-type {\n",
       "        vertical-align: middle;\n",
       "    }\n",
       "\n",
       "    .dataframe tbody tr th {\n",
       "        vertical-align: top;\n",
       "    }\n",
       "\n",
       "    .dataframe thead th {\n",
       "        text-align: right;\n",
       "    }\n",
       "</style>\n",
       "<table border=\"1\" class=\"dataframe\">\n",
       "  <thead>\n",
       "    <tr style=\"text-align: right;\">\n",
       "      <th></th>\n",
       "      <th>label</th>\n",
       "      <th>content</th>\n",
       "    </tr>\n",
       "  </thead>\n",
       "  <tbody>\n",
       "    <tr>\n",
       "      <th>count</th>\n",
       "      <td>5169</td>\n",
       "      <td>5169</td>\n",
       "    </tr>\n",
       "    <tr>\n",
       "      <th>unique</th>\n",
       "      <td>2</td>\n",
       "      <td>5169</td>\n",
       "    </tr>\n",
       "    <tr>\n",
       "      <th>top</th>\n",
       "      <td>ham</td>\n",
       "      <td>Go until jurong point, crazy.. Available only ...</td>\n",
       "    </tr>\n",
       "    <tr>\n",
       "      <th>freq</th>\n",
       "      <td>4516</td>\n",
       "      <td>1</td>\n",
       "    </tr>\n",
       "  </tbody>\n",
       "</table>\n",
       "</div>"
      ],
      "text/plain": [
       "       label                                            content\n",
       "count   5169                                               5169\n",
       "unique     2                                               5169\n",
       "top      ham  Go until jurong point, crazy.. Available only ...\n",
       "freq    4516                                                  1"
      ]
     },
     "execution_count": 5,
     "metadata": {},
     "output_type": "execute_result"
    }
   ],
   "source": [
    "df.drop_duplicates(inplace = True)\n",
    "#Retrait des lignes identiques \n",
    "\n",
    "print(df.label.value_counts(normalize = True))\n",
    "#Proportion 'ham' : 4516/5169 = 87.4%\n",
    "#Le Ratio ham/spam est donc conservé à 0.8% près après retrait des doublons.\n",
    "\n",
    "df.describe()"
   ]
  },
  {
   "cell_type": "code",
   "execution_count": 6,
   "id": "08685c8a",
   "metadata": {},
   "outputs": [],
   "source": [
    "df.to_csv('spam_clean.csv',index = False)\n",
    "#export du dataframe nettoyé dans le dossier de travail sous le nom de 'spam_clean.csv'"
   ]
  },
  {
   "cell_type": "markdown",
   "id": "e532106c",
   "metadata": {},
   "source": [
    "# Features"
   ]
  },
  {
   "cell_type": "code",
   "execution_count": 7,
   "id": "48f59674",
   "metadata": {},
   "outputs": [],
   "source": [
    "df = pd.read_csv('spam_clean.csv')"
   ]
  },
  {
   "cell_type": "code",
   "execution_count": 8,
   "id": "c0705fb6",
   "metadata": {},
   "outputs": [
    {
     "data": {
      "text/html": [
       "<div>\n",
       "<style scoped>\n",
       "    .dataframe tbody tr th:only-of-type {\n",
       "        vertical-align: middle;\n",
       "    }\n",
       "\n",
       "    .dataframe tbody tr th {\n",
       "        vertical-align: top;\n",
       "    }\n",
       "\n",
       "    .dataframe thead th {\n",
       "        text-align: right;\n",
       "    }\n",
       "</style>\n",
       "<table border=\"1\" class=\"dataframe\">\n",
       "  <thead>\n",
       "    <tr style=\"text-align: right;\">\n",
       "      <th></th>\n",
       "      <th>label</th>\n",
       "      <th>content</th>\n",
       "      <th>length</th>\n",
       "    </tr>\n",
       "  </thead>\n",
       "  <tbody>\n",
       "    <tr>\n",
       "      <th>0</th>\n",
       "      <td>ham</td>\n",
       "      <td>Go until jurong point, crazy.. Available only ...</td>\n",
       "      <td>111</td>\n",
       "    </tr>\n",
       "    <tr>\n",
       "      <th>1</th>\n",
       "      <td>ham</td>\n",
       "      <td>Ok lar... Joking wif u oni...</td>\n",
       "      <td>29</td>\n",
       "    </tr>\n",
       "    <tr>\n",
       "      <th>2</th>\n",
       "      <td>spam</td>\n",
       "      <td>Free entry in 2 a wkly comp to win FA Cup fina...</td>\n",
       "      <td>155</td>\n",
       "    </tr>\n",
       "    <tr>\n",
       "      <th>3</th>\n",
       "      <td>ham</td>\n",
       "      <td>U dun say so early hor... U c already then say...</td>\n",
       "      <td>49</td>\n",
       "    </tr>\n",
       "    <tr>\n",
       "      <th>4</th>\n",
       "      <td>ham</td>\n",
       "      <td>Nah I don't think he goes to usf, he lives aro...</td>\n",
       "      <td>61</td>\n",
       "    </tr>\n",
       "    <tr>\n",
       "      <th>...</th>\n",
       "      <td>...</td>\n",
       "      <td>...</td>\n",
       "      <td>...</td>\n",
       "    </tr>\n",
       "    <tr>\n",
       "      <th>5164</th>\n",
       "      <td>spam</td>\n",
       "      <td>This is the 2nd time we have tried 2 contact u...</td>\n",
       "      <td>161</td>\n",
       "    </tr>\n",
       "    <tr>\n",
       "      <th>5165</th>\n",
       "      <td>ham</td>\n",
       "      <td>Will Ì_ b going to esplanade fr home?</td>\n",
       "      <td>37</td>\n",
       "    </tr>\n",
       "    <tr>\n",
       "      <th>5166</th>\n",
       "      <td>ham</td>\n",
       "      <td>Pity, * was in mood for that. So...any other s...</td>\n",
       "      <td>57</td>\n",
       "    </tr>\n",
       "    <tr>\n",
       "      <th>5167</th>\n",
       "      <td>ham</td>\n",
       "      <td>The guy did some bitching but I acted like i'd...</td>\n",
       "      <td>125</td>\n",
       "    </tr>\n",
       "    <tr>\n",
       "      <th>5168</th>\n",
       "      <td>ham</td>\n",
       "      <td>Rofl. Its true to its name</td>\n",
       "      <td>26</td>\n",
       "    </tr>\n",
       "  </tbody>\n",
       "</table>\n",
       "<p>5169 rows × 3 columns</p>\n",
       "</div>"
      ],
      "text/plain": [
       "     label                                            content  length\n",
       "0      ham  Go until jurong point, crazy.. Available only ...     111\n",
       "1      ham                      Ok lar... Joking wif u oni...      29\n",
       "2     spam  Free entry in 2 a wkly comp to win FA Cup fina...     155\n",
       "3      ham  U dun say so early hor... U c already then say...      49\n",
       "4      ham  Nah I don't think he goes to usf, he lives aro...      61\n",
       "...    ...                                                ...     ...\n",
       "5164  spam  This is the 2nd time we have tried 2 contact u...     161\n",
       "5165   ham              Will Ì_ b going to esplanade fr home?      37\n",
       "5166   ham  Pity, * was in mood for that. So...any other s...      57\n",
       "5167   ham  The guy did some bitching but I acted like i'd...     125\n",
       "5168   ham                         Rofl. Its true to its name      26\n",
       "\n",
       "[5169 rows x 3 columns]"
      ]
     },
     "execution_count": 8,
     "metadata": {},
     "output_type": "execute_result"
    }
   ],
   "source": [
    "#Ajout d'une feature length contenant le nombre de caractère compris dans le SMS\n",
    "df['length'] = df['content'].apply(len)\n",
    "df"
   ]
  },
  {
   "cell_type": "code",
   "execution_count": 9,
   "id": "f35240bc",
   "metadata": {},
   "outputs": [],
   "source": [
    "df.to_csv('spam_features.csv',index = False)"
   ]
  },
  {
   "cell_type": "markdown",
   "id": "c90c8f4c",
   "metadata": {},
   "source": [
    "# Preprocessing"
   ]
  },
  {
   "cell_type": "code",
   "execution_count": 10,
   "id": "d60b1a2c",
   "metadata": {},
   "outputs": [],
   "source": [
    "# data\n",
    "import pandas as pd\n",
    "\n",
    "# Preprocessing\n",
    "from sklearn.impute import SimpleImputer\n",
    "from sklearn.compose import ColumnTransformer\n",
    "from sklearn.preprocessing import LabelEncoder, LabelBinarizer, OneHotEncoder, StandardScaler, RobustScaler, MinMaxScaler\n",
    "\n",
    "\n",
    "# Pipeline and model\n",
    "from sklearn.pipeline import Pipeline\n",
    "from sklearn import set_config\n",
    "from sklearn.model_selection import train_test_split\n",
    "from sklearn.linear_model import LogisticRegression\n",
    "from sklearn.tree import DecisionTreeClassifier\n",
    "from sklearn.naive_bayes import CategoricalNB, GaussianNB\n",
    "from sklearn.ensemble import GradientBoostingClassifier\n",
    "from sklearn.svm import SVC\n",
    "\n",
    "# Score of models\n",
    "from sklearn.metrics import accuracy_score"
   ]
  },
  {
   "cell_type": "code",
   "execution_count": 11,
   "id": "3c762437",
   "metadata": {},
   "outputs": [
    {
     "name": "stdout",
     "output_type": "stream",
     "text": [
      "  label                                            content  length\n",
      "0   ham  Go until jurong point, crazy.. Available only ...     111\n",
      "1   ham                      Ok lar... Joking wif u oni...      29\n",
      "2  spam  Free entry in 2 a wkly comp to win FA Cup fina...     155\n",
      "3   ham  U dun say so early hor... U c already then say...      49\n",
      "4   ham  Nah I don't think he goes to usf, he lives aro...      61 \n",
      "\n",
      " Nombre de null : 0\n"
     ]
    }
   ],
   "source": [
    "df = pd.read_csv('spam_features.csv')\n",
    "print(df.head(),'\\n\\n Nombre de null :',df.content.isnull().sum())"
   ]
  },
  {
   "cell_type": "code",
   "execution_count": 12,
   "id": "69de1841",
   "metadata": {
    "slideshow": {
     "slide_type": "-"
    }
   },
   "outputs": [
    {
     "data": {
      "text/plain": [
       "(numpy.ndarray, array([0, 0, 1, ..., 0, 0, 0]))"
      ]
     },
     "execution_count": 12,
     "metadata": {},
     "output_type": "execute_result"
    }
   ],
   "source": [
    "#Target preprocessing\n",
    "lb_binar = LabelEncoder()\n",
    "y = lb_binar.fit_transform(df.label)\n",
    "type(y), y\n",
    "# ham : 0, spam : 1"
   ]
  },
  {
   "cell_type": "code",
   "execution_count": 13,
   "id": "b11be081",
   "metadata": {},
   "outputs": [
    {
     "data": {
      "text/html": [
       "<div>\n",
       "<style scoped>\n",
       "    .dataframe tbody tr th:only-of-type {\n",
       "        vertical-align: middle;\n",
       "    }\n",
       "\n",
       "    .dataframe tbody tr th {\n",
       "        vertical-align: top;\n",
       "    }\n",
       "\n",
       "    .dataframe thead th {\n",
       "        text-align: right;\n",
       "    }\n",
       "</style>\n",
       "<table border=\"1\" class=\"dataframe\">\n",
       "  <thead>\n",
       "    <tr style=\"text-align: right;\">\n",
       "      <th></th>\n",
       "      <th>content</th>\n",
       "      <th>length</th>\n",
       "    </tr>\n",
       "  </thead>\n",
       "  <tbody>\n",
       "    <tr>\n",
       "      <th>0</th>\n",
       "      <td>Go until jurong point, crazy.. Available only ...</td>\n",
       "      <td>111</td>\n",
       "    </tr>\n",
       "    <tr>\n",
       "      <th>1</th>\n",
       "      <td>Ok lar... Joking wif u oni...</td>\n",
       "      <td>29</td>\n",
       "    </tr>\n",
       "    <tr>\n",
       "      <th>2</th>\n",
       "      <td>Free entry in 2 a wkly comp to win FA Cup fina...</td>\n",
       "      <td>155</td>\n",
       "    </tr>\n",
       "    <tr>\n",
       "      <th>3</th>\n",
       "      <td>U dun say so early hor... U c already then say...</td>\n",
       "      <td>49</td>\n",
       "    </tr>\n",
       "    <tr>\n",
       "      <th>4</th>\n",
       "      <td>Nah I don't think he goes to usf, he lives aro...</td>\n",
       "      <td>61</td>\n",
       "    </tr>\n",
       "  </tbody>\n",
       "</table>\n",
       "</div>"
      ],
      "text/plain": [
       "                                             content  length\n",
       "0  Go until jurong point, crazy.. Available only ...     111\n",
       "1                      Ok lar... Joking wif u oni...      29\n",
       "2  Free entry in 2 a wkly comp to win FA Cup fina...     155\n",
       "3  U dun say so early hor... U c already then say...      49\n",
       "4  Nah I don't think he goes to usf, he lives aro...      61"
      ]
     },
     "execution_count": 13,
     "metadata": {},
     "output_type": "execute_result"
    }
   ],
   "source": [
    "#Features preprocessing\n",
    "X = df.drop(columns = 'label')\n",
    "X.head()"
   ]
  },
  {
   "cell_type": "code",
   "execution_count": 21,
   "id": "82d6fea0",
   "metadata": {},
   "outputs": [
    {
     "name": "stdout",
     "output_type": "stream",
     "text": [
      "Index([], dtype='object')\n"
     ]
    }
   ],
   "source": [
    "#Selection des features catégoriques\n",
    "column_cat = df.select_dtypes(include=['object']).columns.drop(['content', 'label'])\n",
    "print(column_cat)\n",
    "\n",
    "#Pipeline de preprocessing des features numériques\n",
    "transformer_cat = Pipeline(steps=[\n",
    "    ('imputation', SimpleImputer(strategy='most_frequent')), #Imputation facultative car données complètes\n",
    "    ('onehot', OneHotEncoder(handle_unknown='ignore', sparse = False))\n",
    "])"
   ]
  },
  {
   "cell_type": "code",
   "execution_count": 31,
   "id": "2a1714ca",
   "metadata": {
    "scrolled": true
   },
   "outputs": [
    {
     "name": "stdout",
     "output_type": "stream",
     "text": [
      "Index(['length'], dtype='object')\n"
     ]
    }
   ],
   "source": [
    "#Selection des features numériques\n",
    "column_num = df.select_dtypes(include=['int','float']).columns\n",
    "print(column_num)\n",
    "\n",
    "#Pipeline de preprocessing des features numériques\n",
    "transformer_num = Pipeline(steps = [\n",
    "    ('imputation', SimpleImputer(strategy='median')), #Imputation facultative car données complètes\n",
    "    ('scaling', MinMaxScaler())\n",
    "])"
   ]
  },
  {
   "cell_type": "code",
   "execution_count": 24,
   "id": "46d6fd13",
   "metadata": {},
   "outputs": [],
   "source": [
    "#Features Columns Transformer\n",
    "preparation = ColumnTransformer(transformers = [\n",
    "    ('data_num', transformer_num, column_num), \n",
    "    ('data_cat', transformer_cat, column_cat)\n",
    "])"
   ]
  },
  {
   "cell_type": "code",
   "execution_count": 25,
   "id": "259427a5",
   "metadata": {},
   "outputs": [
    {
     "data": {
      "text/html": [
       "<style>#sk-723e466b-c5c4-4009-867a-abb04f23a38d {color: black;background-color: white;}#sk-723e466b-c5c4-4009-867a-abb04f23a38d pre{padding: 0;}#sk-723e466b-c5c4-4009-867a-abb04f23a38d div.sk-toggleable {background-color: white;}#sk-723e466b-c5c4-4009-867a-abb04f23a38d label.sk-toggleable__label {cursor: pointer;display: block;width: 100%;margin-bottom: 0;padding: 0.2em 0.3em;box-sizing: border-box;text-align: center;}#sk-723e466b-c5c4-4009-867a-abb04f23a38d div.sk-toggleable__content {max-height: 0;max-width: 0;overflow: hidden;text-align: left;background-color: #f0f8ff;}#sk-723e466b-c5c4-4009-867a-abb04f23a38d div.sk-toggleable__content pre {margin: 0.2em;color: black;border-radius: 0.25em;background-color: #f0f8ff;}#sk-723e466b-c5c4-4009-867a-abb04f23a38d input.sk-toggleable__control:checked~div.sk-toggleable__content {max-height: 200px;max-width: 100%;overflow: auto;}#sk-723e466b-c5c4-4009-867a-abb04f23a38d div.sk-estimator input.sk-toggleable__control:checked~label.sk-toggleable__label {background-color: #d4ebff;}#sk-723e466b-c5c4-4009-867a-abb04f23a38d div.sk-label input.sk-toggleable__control:checked~label.sk-toggleable__label {background-color: #d4ebff;}#sk-723e466b-c5c4-4009-867a-abb04f23a38d input.sk-hidden--visually {border: 0;clip: rect(1px 1px 1px 1px);clip: rect(1px, 1px, 1px, 1px);height: 1px;margin: -1px;overflow: hidden;padding: 0;position: absolute;width: 1px;}#sk-723e466b-c5c4-4009-867a-abb04f23a38d div.sk-estimator {font-family: monospace;background-color: #f0f8ff;margin: 0.25em 0.25em;border: 1px dotted black;border-radius: 0.25em;box-sizing: border-box;}#sk-723e466b-c5c4-4009-867a-abb04f23a38d div.sk-estimator:hover {background-color: #d4ebff;}#sk-723e466b-c5c4-4009-867a-abb04f23a38d div.sk-parallel-item::after {content: \"\";width: 100%;border-bottom: 1px solid gray;flex-grow: 1;}#sk-723e466b-c5c4-4009-867a-abb04f23a38d div.sk-label:hover label.sk-toggleable__label {background-color: #d4ebff;}#sk-723e466b-c5c4-4009-867a-abb04f23a38d div.sk-serial::before {content: \"\";position: absolute;border-left: 1px solid gray;box-sizing: border-box;top: 2em;bottom: 0;left: 50%;}#sk-723e466b-c5c4-4009-867a-abb04f23a38d div.sk-serial {display: flex;flex-direction: column;align-items: center;background-color: white;}#sk-723e466b-c5c4-4009-867a-abb04f23a38d div.sk-item {z-index: 1;}#sk-723e466b-c5c4-4009-867a-abb04f23a38d div.sk-parallel {display: flex;align-items: stretch;justify-content: center;background-color: white;}#sk-723e466b-c5c4-4009-867a-abb04f23a38d div.sk-parallel-item {display: flex;flex-direction: column;position: relative;background-color: white;}#sk-723e466b-c5c4-4009-867a-abb04f23a38d div.sk-parallel-item:first-child::after {align-self: flex-end;width: 50%;}#sk-723e466b-c5c4-4009-867a-abb04f23a38d div.sk-parallel-item:last-child::after {align-self: flex-start;width: 50%;}#sk-723e466b-c5c4-4009-867a-abb04f23a38d div.sk-parallel-item:only-child::after {width: 0;}#sk-723e466b-c5c4-4009-867a-abb04f23a38d div.sk-dashed-wrapped {border: 1px dashed gray;margin: 0.2em;box-sizing: border-box;padding-bottom: 0.1em;background-color: white;position: relative;}#sk-723e466b-c5c4-4009-867a-abb04f23a38d div.sk-label label {font-family: monospace;font-weight: bold;background-color: white;display: inline-block;line-height: 1.2em;}#sk-723e466b-c5c4-4009-867a-abb04f23a38d div.sk-label-container {position: relative;z-index: 2;text-align: center;}#sk-723e466b-c5c4-4009-867a-abb04f23a38d div.sk-container {display: inline-block;position: relative;}</style><div id=\"sk-723e466b-c5c4-4009-867a-abb04f23a38d\" class\"sk-top-container\"><div class=\"sk-container\"><div class=\"sk-item sk-dashed-wrapped\"><div class=\"sk-label-container\"><div class=\"sk-label sk-toggleable\"><input class=\"sk-toggleable__control sk-hidden--visually\" id=\"dd082ccf-f641-4739-983f-bbe562b6e565\" type=\"checkbox\" ><label class=\"sk-toggleable__label\" for=\"dd082ccf-f641-4739-983f-bbe562b6e565\">Pipeline</label><div class=\"sk-toggleable__content\"><pre>Pipeline(steps=[('preparation',\n",
       "                 ColumnTransformer(transformers=[('data_num',\n",
       "                                                  Pipeline(steps=[('imputation',\n",
       "                                                                   SimpleImputer(strategy='median')),\n",
       "                                                                  ('scaling',\n",
       "                                                                   MinMaxScaler())]),\n",
       "                                                  Index(['length'], dtype='object')),\n",
       "                                                 ('data_cat',\n",
       "                                                  Pipeline(steps=[('imputation',\n",
       "                                                                   SimpleImputer(strategy='most_frequent')),\n",
       "                                                                  ('onehot',\n",
       "                                                                   OneHotEncoder(handle_unknown='ignore',\n",
       "                                                                                 sparse=False))]),\n",
       "                                                  Index([], dtype='object'))])),\n",
       "                ('model', DecisionTreeClassifier())])</pre></div></div></div><div class=\"sk-serial\"><div class=\"sk-item sk-dashed-wrapped\"><div class=\"sk-label-container\"><div class=\"sk-label sk-toggleable\"><input class=\"sk-toggleable__control sk-hidden--visually\" id=\"f1d8081d-b046-4408-9d1f-07bfd4886be4\" type=\"checkbox\" ><label class=\"sk-toggleable__label\" for=\"f1d8081d-b046-4408-9d1f-07bfd4886be4\">preparation: ColumnTransformer</label><div class=\"sk-toggleable__content\"><pre>ColumnTransformer(transformers=[('data_num',\n",
       "                                 Pipeline(steps=[('imputation',\n",
       "                                                  SimpleImputer(strategy='median')),\n",
       "                                                 ('scaling', MinMaxScaler())]),\n",
       "                                 Index(['length'], dtype='object')),\n",
       "                                ('data_cat',\n",
       "                                 Pipeline(steps=[('imputation',\n",
       "                                                  SimpleImputer(strategy='most_frequent')),\n",
       "                                                 ('onehot',\n",
       "                                                  OneHotEncoder(handle_unknown='ignore',\n",
       "                                                                sparse=False))]),\n",
       "                                 Index([], dtype='object'))])</pre></div></div></div><div class=\"sk-parallel\"><div class=\"sk-parallel-item\"><div class=\"sk-item\"><div class=\"sk-label-container\"><div class=\"sk-label sk-toggleable\"><input class=\"sk-toggleable__control sk-hidden--visually\" id=\"0e2dfed7-85e8-4cbf-8e97-98fbefe0d2ba\" type=\"checkbox\" ><label class=\"sk-toggleable__label\" for=\"0e2dfed7-85e8-4cbf-8e97-98fbefe0d2ba\">data_num</label><div class=\"sk-toggleable__content\"><pre>Index(['length'], dtype='object')</pre></div></div></div><div class=\"sk-serial\"><div class=\"sk-item\"><div class=\"sk-serial\"><div class=\"sk-item\"><div class=\"sk-estimator sk-toggleable\"><input class=\"sk-toggleable__control sk-hidden--visually\" id=\"05fb8cf1-9745-4375-9fb2-b652692c590b\" type=\"checkbox\" ><label class=\"sk-toggleable__label\" for=\"05fb8cf1-9745-4375-9fb2-b652692c590b\">SimpleImputer</label><div class=\"sk-toggleable__content\"><pre>SimpleImputer(strategy='median')</pre></div></div></div><div class=\"sk-item\"><div class=\"sk-estimator sk-toggleable\"><input class=\"sk-toggleable__control sk-hidden--visually\" id=\"43b3548c-a584-41ab-b19f-e83162e7cc02\" type=\"checkbox\" ><label class=\"sk-toggleable__label\" for=\"43b3548c-a584-41ab-b19f-e83162e7cc02\">MinMaxScaler</label><div class=\"sk-toggleable__content\"><pre>MinMaxScaler()</pre></div></div></div></div></div></div></div></div><div class=\"sk-parallel-item\"><div class=\"sk-item\"><div class=\"sk-label-container\"><div class=\"sk-label sk-toggleable\"><input class=\"sk-toggleable__control sk-hidden--visually\" id=\"7908f682-2ee8-45be-8639-988ebc314537\" type=\"checkbox\" ><label class=\"sk-toggleable__label\" for=\"7908f682-2ee8-45be-8639-988ebc314537\">data_cat</label><div class=\"sk-toggleable__content\"><pre>Index([], dtype='object')</pre></div></div></div><div class=\"sk-serial\"><div class=\"sk-item\"><div class=\"sk-serial\"><div class=\"sk-item\"><div class=\"sk-estimator sk-toggleable\"><input class=\"sk-toggleable__control sk-hidden--visually\" id=\"e10c29de-013e-496d-9386-448f4c89747d\" type=\"checkbox\" ><label class=\"sk-toggleable__label\" for=\"e10c29de-013e-496d-9386-448f4c89747d\">SimpleImputer</label><div class=\"sk-toggleable__content\"><pre>SimpleImputer(strategy='most_frequent')</pre></div></div></div><div class=\"sk-item\"><div class=\"sk-estimator sk-toggleable\"><input class=\"sk-toggleable__control sk-hidden--visually\" id=\"48ccba26-d78b-4a33-926b-204f0c4d97cb\" type=\"checkbox\" ><label class=\"sk-toggleable__label\" for=\"48ccba26-d78b-4a33-926b-204f0c4d97cb\">OneHotEncoder</label><div class=\"sk-toggleable__content\"><pre>OneHotEncoder(handle_unknown='ignore', sparse=False)</pre></div></div></div></div></div></div></div></div></div></div><div class=\"sk-item\"><div class=\"sk-estimator sk-toggleable\"><input class=\"sk-toggleable__control sk-hidden--visually\" id=\"dcc358d9-80a1-4b49-9f71-5ffb79310a38\" type=\"checkbox\" ><label class=\"sk-toggleable__label\" for=\"dcc358d9-80a1-4b49-9f71-5ffb79310a38\">DecisionTreeClassifier</label><div class=\"sk-toggleable__content\"><pre>DecisionTreeClassifier()</pre></div></div></div></div></div></div></div>"
      ],
      "text/plain": [
       "Pipeline(steps=[('preparation',\n",
       "                 ColumnTransformer(transformers=[('data_num',\n",
       "                                                  Pipeline(steps=[('imputation',\n",
       "                                                                   SimpleImputer(strategy='median')),\n",
       "                                                                  ('scaling',\n",
       "                                                                   MinMaxScaler())]),\n",
       "                                                  Index(['length'], dtype='object')),\n",
       "                                                 ('data_cat',\n",
       "                                                  Pipeline(steps=[('imputation',\n",
       "                                                                   SimpleImputer(strategy='most_frequent')),\n",
       "                                                                  ('onehot',\n",
       "                                                                   OneHotEncoder(handle_unknown='ignore',\n",
       "                                                                                 sparse=False))]),\n",
       "                                                  Index([], dtype='object'))])),\n",
       "                ('model', DecisionTreeClassifier())])"
      ]
     },
     "execution_count": 25,
     "metadata": {},
     "output_type": "execute_result"
    }
   ],
   "source": [
    "#Création du modèle\n",
    "model = DecisionTreeClassifier()\n",
    "\n",
    "pipe_model = Pipeline(steps=[\n",
    "    ('preparation', preparation),\n",
    "    ('model', model)])\n",
    "\n",
    "set_config(display = 'diagram')\n",
    "pipe_model"
   ]
  },
  {
   "cell_type": "code",
   "execution_count": 26,
   "id": "d9651b36",
   "metadata": {},
   "outputs": [
    {
     "data": {
      "text/plain": [
       "(array([0, 0, 0, ..., 0, 0, 0]),\n",
       " array([0, 0, 1, ..., 0, 1, 0]),\n",
       "                                                 content  length\n",
       " 1818                   Sorry, I can't help you on this.      32\n",
       " 4612                  I am in bus on the way to calicut      33\n",
       " 4172  Thanks again for your reply today. When is ur ...     236\n",
       " 4528                             I liked your new house      22\n",
       " 199   Hello darlin ive finished college now so txt m...      84\n",
       " ...                                                 ...     ...\n",
       " 1902                        Enjoy ur life. . Good night      27\n",
       " 3489  Hey loverboy! I love you !! I had to tell ... ...     158\n",
       " 2679               Mm so you asked me not to call radio      36\n",
       " 1195                    Jus ans me lar. U'll noe later.      31\n",
       " 2422  What's happening with you. Have you gotten a j...     104\n",
       " \n",
       " [4135 rows x 2 columns],\n",
       "                                                 content  length\n",
       " 3924  I just really need shit before tomorrow and I ...      83\n",
       " 107   I know! Grumpy old people. My mom was like you...     115\n",
       " 4869  Someonone you know is trying to contact you vi...     155\n",
       " 1796                   Sir, i am waiting for your call.      32\n",
       " 3400          Hey morning what you come to ask:-) pa...      41\n",
       " ...                                                 ...     ...\n",
       " 2010                Dude how do you like the buff wind.      35\n",
       " 5147                 No, I was trying it all weekend ;V      34\n",
       " 2167                            Ok. Me watching tv too.      23\n",
       " 3390  Do you want a New Nokia 3510i Colour Phone Del...     157\n",
       " 1142  Yay! You better not have told that to 5 other ...      59\n",
       " \n",
       " [1034 rows x 2 columns])"
      ]
     },
     "execution_count": 26,
     "metadata": {},
     "output_type": "execute_result"
    }
   ],
   "source": [
    "#Train test split\n",
    "X_train, X_test, y_train, y_test = train_test_split(X, y, test_size = 0.2, random_state = 0, stratify = y)\n",
    "y_train, y_test, X_train, X_test"
   ]
  },
  {
   "cell_type": "code",
   "execution_count": 27,
   "id": "929119ef",
   "metadata": {},
   "outputs": [
    {
     "data": {
      "text/html": [
       "<style>#sk-082121a8-65ef-428c-b6bf-93130372936d {color: black;background-color: white;}#sk-082121a8-65ef-428c-b6bf-93130372936d pre{padding: 0;}#sk-082121a8-65ef-428c-b6bf-93130372936d div.sk-toggleable {background-color: white;}#sk-082121a8-65ef-428c-b6bf-93130372936d label.sk-toggleable__label {cursor: pointer;display: block;width: 100%;margin-bottom: 0;padding: 0.2em 0.3em;box-sizing: border-box;text-align: center;}#sk-082121a8-65ef-428c-b6bf-93130372936d div.sk-toggleable__content {max-height: 0;max-width: 0;overflow: hidden;text-align: left;background-color: #f0f8ff;}#sk-082121a8-65ef-428c-b6bf-93130372936d div.sk-toggleable__content pre {margin: 0.2em;color: black;border-radius: 0.25em;background-color: #f0f8ff;}#sk-082121a8-65ef-428c-b6bf-93130372936d input.sk-toggleable__control:checked~div.sk-toggleable__content {max-height: 200px;max-width: 100%;overflow: auto;}#sk-082121a8-65ef-428c-b6bf-93130372936d div.sk-estimator input.sk-toggleable__control:checked~label.sk-toggleable__label {background-color: #d4ebff;}#sk-082121a8-65ef-428c-b6bf-93130372936d div.sk-label input.sk-toggleable__control:checked~label.sk-toggleable__label {background-color: #d4ebff;}#sk-082121a8-65ef-428c-b6bf-93130372936d input.sk-hidden--visually {border: 0;clip: rect(1px 1px 1px 1px);clip: rect(1px, 1px, 1px, 1px);height: 1px;margin: -1px;overflow: hidden;padding: 0;position: absolute;width: 1px;}#sk-082121a8-65ef-428c-b6bf-93130372936d div.sk-estimator {font-family: monospace;background-color: #f0f8ff;margin: 0.25em 0.25em;border: 1px dotted black;border-radius: 0.25em;box-sizing: border-box;}#sk-082121a8-65ef-428c-b6bf-93130372936d div.sk-estimator:hover {background-color: #d4ebff;}#sk-082121a8-65ef-428c-b6bf-93130372936d div.sk-parallel-item::after {content: \"\";width: 100%;border-bottom: 1px solid gray;flex-grow: 1;}#sk-082121a8-65ef-428c-b6bf-93130372936d div.sk-label:hover label.sk-toggleable__label {background-color: #d4ebff;}#sk-082121a8-65ef-428c-b6bf-93130372936d div.sk-serial::before {content: \"\";position: absolute;border-left: 1px solid gray;box-sizing: border-box;top: 2em;bottom: 0;left: 50%;}#sk-082121a8-65ef-428c-b6bf-93130372936d div.sk-serial {display: flex;flex-direction: column;align-items: center;background-color: white;}#sk-082121a8-65ef-428c-b6bf-93130372936d div.sk-item {z-index: 1;}#sk-082121a8-65ef-428c-b6bf-93130372936d div.sk-parallel {display: flex;align-items: stretch;justify-content: center;background-color: white;}#sk-082121a8-65ef-428c-b6bf-93130372936d div.sk-parallel-item {display: flex;flex-direction: column;position: relative;background-color: white;}#sk-082121a8-65ef-428c-b6bf-93130372936d div.sk-parallel-item:first-child::after {align-self: flex-end;width: 50%;}#sk-082121a8-65ef-428c-b6bf-93130372936d div.sk-parallel-item:last-child::after {align-self: flex-start;width: 50%;}#sk-082121a8-65ef-428c-b6bf-93130372936d div.sk-parallel-item:only-child::after {width: 0;}#sk-082121a8-65ef-428c-b6bf-93130372936d div.sk-dashed-wrapped {border: 1px dashed gray;margin: 0.2em;box-sizing: border-box;padding-bottom: 0.1em;background-color: white;position: relative;}#sk-082121a8-65ef-428c-b6bf-93130372936d div.sk-label label {font-family: monospace;font-weight: bold;background-color: white;display: inline-block;line-height: 1.2em;}#sk-082121a8-65ef-428c-b6bf-93130372936d div.sk-label-container {position: relative;z-index: 2;text-align: center;}#sk-082121a8-65ef-428c-b6bf-93130372936d div.sk-container {display: inline-block;position: relative;}</style><div id=\"sk-082121a8-65ef-428c-b6bf-93130372936d\" class\"sk-top-container\"><div class=\"sk-container\"><div class=\"sk-item sk-dashed-wrapped\"><div class=\"sk-label-container\"><div class=\"sk-label sk-toggleable\"><input class=\"sk-toggleable__control sk-hidden--visually\" id=\"2fd0e225-6978-4758-a9ed-ddc4989518f5\" type=\"checkbox\" ><label class=\"sk-toggleable__label\" for=\"2fd0e225-6978-4758-a9ed-ddc4989518f5\">Pipeline</label><div class=\"sk-toggleable__content\"><pre>Pipeline(steps=[('preparation',\n",
       "                 ColumnTransformer(transformers=[('data_num',\n",
       "                                                  Pipeline(steps=[('imputation',\n",
       "                                                                   SimpleImputer(strategy='median')),\n",
       "                                                                  ('scaling',\n",
       "                                                                   MinMaxScaler())]),\n",
       "                                                  Index(['length'], dtype='object')),\n",
       "                                                 ('data_cat',\n",
       "                                                  Pipeline(steps=[('imputation',\n",
       "                                                                   SimpleImputer(strategy='most_frequent')),\n",
       "                                                                  ('onehot',\n",
       "                                                                   OneHotEncoder(handle_unknown='ignore',\n",
       "                                                                                 sparse=False))]),\n",
       "                                                  Index([], dtype='object'))])),\n",
       "                ('model', DecisionTreeClassifier())])</pre></div></div></div><div class=\"sk-serial\"><div class=\"sk-item sk-dashed-wrapped\"><div class=\"sk-label-container\"><div class=\"sk-label sk-toggleable\"><input class=\"sk-toggleable__control sk-hidden--visually\" id=\"d1b89537-53f0-4900-982f-ee954e17ffef\" type=\"checkbox\" ><label class=\"sk-toggleable__label\" for=\"d1b89537-53f0-4900-982f-ee954e17ffef\">preparation: ColumnTransformer</label><div class=\"sk-toggleable__content\"><pre>ColumnTransformer(transformers=[('data_num',\n",
       "                                 Pipeline(steps=[('imputation',\n",
       "                                                  SimpleImputer(strategy='median')),\n",
       "                                                 ('scaling', MinMaxScaler())]),\n",
       "                                 Index(['length'], dtype='object')),\n",
       "                                ('data_cat',\n",
       "                                 Pipeline(steps=[('imputation',\n",
       "                                                  SimpleImputer(strategy='most_frequent')),\n",
       "                                                 ('onehot',\n",
       "                                                  OneHotEncoder(handle_unknown='ignore',\n",
       "                                                                sparse=False))]),\n",
       "                                 Index([], dtype='object'))])</pre></div></div></div><div class=\"sk-parallel\"><div class=\"sk-parallel-item\"><div class=\"sk-item\"><div class=\"sk-label-container\"><div class=\"sk-label sk-toggleable\"><input class=\"sk-toggleable__control sk-hidden--visually\" id=\"5138ad19-d24c-4fae-bfd0-0e5e2a98cd6c\" type=\"checkbox\" ><label class=\"sk-toggleable__label\" for=\"5138ad19-d24c-4fae-bfd0-0e5e2a98cd6c\">data_num</label><div class=\"sk-toggleable__content\"><pre>Index(['length'], dtype='object')</pre></div></div></div><div class=\"sk-serial\"><div class=\"sk-item\"><div class=\"sk-serial\"><div class=\"sk-item\"><div class=\"sk-estimator sk-toggleable\"><input class=\"sk-toggleable__control sk-hidden--visually\" id=\"4d361157-5efc-498c-a9da-3947289b0fd3\" type=\"checkbox\" ><label class=\"sk-toggleable__label\" for=\"4d361157-5efc-498c-a9da-3947289b0fd3\">SimpleImputer</label><div class=\"sk-toggleable__content\"><pre>SimpleImputer(strategy='median')</pre></div></div></div><div class=\"sk-item\"><div class=\"sk-estimator sk-toggleable\"><input class=\"sk-toggleable__control sk-hidden--visually\" id=\"30c54a15-ff75-4e9e-8706-d22fdd3d8e36\" type=\"checkbox\" ><label class=\"sk-toggleable__label\" for=\"30c54a15-ff75-4e9e-8706-d22fdd3d8e36\">MinMaxScaler</label><div class=\"sk-toggleable__content\"><pre>MinMaxScaler()</pre></div></div></div></div></div></div></div></div><div class=\"sk-parallel-item\"><div class=\"sk-item\"><div class=\"sk-label-container\"><div class=\"sk-label sk-toggleable\"><input class=\"sk-toggleable__control sk-hidden--visually\" id=\"38264eca-956c-4e44-bbab-8aae992c9e05\" type=\"checkbox\" ><label class=\"sk-toggleable__label\" for=\"38264eca-956c-4e44-bbab-8aae992c9e05\">data_cat</label><div class=\"sk-toggleable__content\"><pre>Index([], dtype='object')</pre></div></div></div><div class=\"sk-serial\"><div class=\"sk-item\"><div class=\"sk-serial\"><div class=\"sk-item\"><div class=\"sk-estimator sk-toggleable\"><input class=\"sk-toggleable__control sk-hidden--visually\" id=\"89653e82-267f-4f75-90b2-236e98482919\" type=\"checkbox\" ><label class=\"sk-toggleable__label\" for=\"89653e82-267f-4f75-90b2-236e98482919\">SimpleImputer</label><div class=\"sk-toggleable__content\"><pre>SimpleImputer(strategy='most_frequent')</pre></div></div></div><div class=\"sk-item\"><div class=\"sk-estimator sk-toggleable\"><input class=\"sk-toggleable__control sk-hidden--visually\" id=\"d425c092-ba1a-400b-a60c-55a16a96d8b6\" type=\"checkbox\" ><label class=\"sk-toggleable__label\" for=\"d425c092-ba1a-400b-a60c-55a16a96d8b6\">OneHotEncoder</label><div class=\"sk-toggleable__content\"><pre>OneHotEncoder(handle_unknown='ignore', sparse=False)</pre></div></div></div></div></div></div></div></div></div></div><div class=\"sk-item\"><div class=\"sk-estimator sk-toggleable\"><input class=\"sk-toggleable__control sk-hidden--visually\" id=\"f29f062b-2d3d-4119-89e6-8ad224104135\" type=\"checkbox\" ><label class=\"sk-toggleable__label\" for=\"f29f062b-2d3d-4119-89e6-8ad224104135\">DecisionTreeClassifier</label><div class=\"sk-toggleable__content\"><pre>DecisionTreeClassifier()</pre></div></div></div></div></div></div></div>"
      ],
      "text/plain": [
       "Pipeline(steps=[('preparation',\n",
       "                 ColumnTransformer(transformers=[('data_num',\n",
       "                                                  Pipeline(steps=[('imputation',\n",
       "                                                                   SimpleImputer(strategy='median')),\n",
       "                                                                  ('scaling',\n",
       "                                                                   MinMaxScaler())]),\n",
       "                                                  Index(['length'], dtype='object')),\n",
       "                                                 ('data_cat',\n",
       "                                                  Pipeline(steps=[('imputation',\n",
       "                                                                   SimpleImputer(strategy='most_frequent')),\n",
       "                                                                  ('onehot',\n",
       "                                                                   OneHotEncoder(handle_unknown='ignore',\n",
       "                                                                                 sparse=False))]),\n",
       "                                                  Index([], dtype='object'))])),\n",
       "                ('model', DecisionTreeClassifier())])"
      ]
     },
     "execution_count": 27,
     "metadata": {},
     "output_type": "execute_result"
    }
   ],
   "source": [
    "pipe_model.fit(X_train, y_train)"
   ]
  },
  {
   "cell_type": "code",
   "execution_count": 28,
   "id": "425ef188",
   "metadata": {},
   "outputs": [],
   "source": [
    "y_pred = pipe_model.predict(X_test)"
   ]
  },
  {
   "cell_type": "code",
   "execution_count": 32,
   "id": "fcc6ec17",
   "metadata": {},
   "outputs": [
    {
     "name": "stdout",
     "output_type": "stream",
     "text": [
      "score : 0.89749\n"
     ]
    }
   ],
   "source": [
    "# Score of models\n",
    "score = accuracy_score(y_test, y_pred)\n",
    "print(\"score :\", round(score, 5))"
   ]
  }
 ],
 "metadata": {
  "celltoolbar": "Diaporama",
  "kernelspec": {
   "display_name": "Python 3 (ipykernel)",
   "language": "python",
   "name": "python3"
  },
  "language_info": {
   "codemirror_mode": {
    "name": "ipython",
    "version": 3
   },
   "file_extension": ".py",
   "mimetype": "text/x-python",
   "name": "python",
   "nbconvert_exporter": "python",
   "pygments_lexer": "ipython3",
   "version": "3.9.7"
  }
 },
 "nbformat": 4,
 "nbformat_minor": 5
}
